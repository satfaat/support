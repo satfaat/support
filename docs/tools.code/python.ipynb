{
 "cells": [
  {
   "attachments": {},
   "cell_type": "markdown",
   "metadata": {},
   "source": [
    "## Python\n",
    "\n",
    "### Links\n",
    "- [openpyxl](https://pypi.org/project/openpyxl/)\n",
    "- [openpyxl docs](https://openpyxl.readthedocs.io/en/stable/)\n",
    "- [mkdocs-material](https://squidfunk.github.io/mkdocs-material/)\n",
    "- [teedoc](https://jamstack.org/generators/teedoc/)\n",
    "\n",
    "### Installation\n",
    "#### Virtual environment\n",
    "```bash\n",
    "# linux\n",
    "sudo apt install python3-venv\n",
    "\n",
    "# for all\n",
    "python -m venv prjLnk\\.venv_name\n",
    "```\n",
    "\n",
    "- activation\n",
    "```bash\n",
    "# windows, for powershell\n",
    ".\\.venv\\Scripts\\activate\n",
    "\n",
    "# for windows wth bash\n",
    "source d:/devgit/pytest/.venv/Scripts/activate\n",
    "source .venv/Scripts/activate\n",
    "\n",
    "# for linux\n",
    "source .venv/bin/activate\n",
    "```\n",
    "- deactivation\n",
    "`deactivate`\n",
    "\n",
    "##### installation to venv\n",
    "```bash\n",
    "pip install -r requirements.txt\n",
    "pip install module_name\n",
    "```"
   ]
  },
  {
   "attachments": {},
   "cell_type": "markdown",
   "metadata": {},
   "source": [
    "## pip\n",
    "```bash\n",
    "pip list # to check what we have\n",
    "pip install -r requirements.txt\n",
    "pip install -U pylint\n",
    "python -m pip install --upgrade pip\n",
    "```"
   ]
  },
  {
   "attachments": {},
   "cell_type": "markdown",
   "metadata": {},
   "source": [
    "## py server\n",
    "\n",
    "- [py server](https://developer.mozilla.org/en-US/docs/Learn/Common_questions/set_up_a_local_testing_server)\n",
    "\n",
    "```bash\n",
    "# If Python version returned above is 3.X\n",
    "# On Windows, try \"python -m http.server\" or \"py -3 -m http.server\"\n",
    "python3 -m http.server\n",
    "# If Python version returned above is 2.X\n",
    "python -m SimpleHTTPServer\n",
    "```"
   ]
  },
  {
   "cell_type": "markdown",
   "metadata": {},
   "source": [
    "## Flask"
   ]
  },
  {
   "cell_type": "markdown",
   "metadata": {},
   "source": [
    "* [palletsprojects](https://flask.palletsprojects.com/en/1.1.x/)\n",
    "* [flask quickstart](https://flask.palletsprojects.com/en/1.1.x/quickstart/)"
   ]
  },
  {
   "cell_type": "markdown",
   "metadata": {},
   "source": [
    "### installation"
   ]
  },
  {
   "cell_type": "markdown",
   "metadata": {},
   "source": [
    "```bash\n",
    "# for linux\n",
    "\n",
    "mkdir -p ~/src/snap && cd ~/src/snap\n",
    "mkvirtualenv snap -i flask\n",
    "\n",
    "mkdir app\n",
    "touch app/{__init__,app,config,main,views}.py\n",
    "```"
   ]
  },
  {
   "cell_type": "markdown",
   "metadata": {},
   "source": [
    "### flask run"
   ]
  },
  {
   "attachments": {},
   "cell_type": "markdown",
   "metadata": {},
   "source": [
    "- windows:\n",
    "```\n",
    "cd D:\\dev\\app__flask\n",
    "\n",
    "set FLASK_APP=frun.py\n",
    "set FLASK_DEBUG=1\n",
    "set FLASK_ENV=development\n",
    "flask run  # start off in app\n",
    "python app.py  # start off in __main__\n",
    "```\n",
    "\n",
    "- powerShell\n",
    "`$env:FLASK_APP = \"webapp\"`\n",
    "\n",
    "- linux\n",
    "```\n",
    "export FLASK_APP=flasky.py\n",
    "export FLASK_DEBUG=1\n",
    "export FLASK_ENV=development\n",
    "flask run\n",
    "```"
   ]
  },
  {
   "cell_type": "markdown",
   "metadata": {},
   "source": [
    "- [flask host](http://127.0.0.1:5000/)"
   ]
  }
 ],
 "metadata": {
  "kernelspec": {
   "display_name": "Python 3.10.0 64-bit",
   "language": "python",
   "name": "python3"
  },
  "language_info": {
   "name": "python",
   "version": "3.10.0 (tags/v3.10.0:b494f59, Oct  4 2021, 19:00:18) [MSC v.1929 64 bit (AMD64)]"
  },
  "orig_nbformat": 4,
  "vscode": {
   "interpreter": {
    "hash": "aeb0d9bb72597a4186043466e613f917bef9b230a0953da9733832b4615fa1ac"
   }
  }
 },
 "nbformat": 4,
 "nbformat_minor": 2
}
