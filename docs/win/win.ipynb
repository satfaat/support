{
 "cells": [
  {
   "attachments": {},
   "cell_type": "markdown",
   "metadata": {},
   "source": [
    "## package managers\n",
    "\n",
    "### winget\n",
    "\n",
    "- https://learn.microsoft.com/en-us/windows/package-manager/winget/\n",
    "\n",
    "\n",
    "#### install\n",
    "```bash\n",
    "winget -v\n",
    "\n",
    "winget install <package>\n",
    "\n",
    "# show info about package\n",
    "winget show --id Volta.Volta\n",
    "\n",
    "```\n",
    "\n",
    "#### search\n",
    "```bash\n",
    "# search\n",
    "Winget search 'app.name'\n",
    "Winget search | sort\n",
    "```\n",
    "#### list\n",
    "```bash\n",
    "winget list --name cisco\n",
    "```\n",
    "#### update\n",
    "\n",
    "### Scoop\n",
    "\n",
    "- https://scoop.sh/\n",
    "- C:\\Users\\u.name\\scoop\\apps\n",
    "\n",
    "```bash\n",
    "# search packege\n",
    "scoop search deno\n",
    "\n",
    "scoop install deno\n",
    "\n",
    "scoop info dark\n",
    "```\n",
    "\n",
    "Allow applications and third-party installers to find python by running:\n",
    "\"C:\\Users\\u.name\\scoop\\apps\\python\\current\\install-pep-514.reg\"\n",
    "\n",
    "Your GOROOT has been set to: C:\\Users\\u.name\\scoop\\apps\\go\\current\n",
    "You can run 'go env GOROOT' to view this at any time.\n",
    "\"$env:USERPROFILE\\go\\bin\" has been added to your PATH."
   ]
  },
  {
   "cell_type": "code",
   "execution_count": null,
   "metadata": {
    "vscode": {
     "languageId": "bat"
    }
   },
   "outputs": [],
   "source": [
    "# base\n",
    "scoop install 7zip git obsidian\n",
    "\n",
    "# dev\n",
    "scoop install deno python go\n",
    "\n",
    "# testing\n",
    "scoop install k6"
   ]
  },
  {
   "attachments": {},
   "cell_type": "markdown",
   "metadata": {},
   "source": [
    "## tools\n",
    "\n",
    "### terminal\n",
    "- C:\\.dev\\PowerShell\\pwsh.exe\n",
    "- C:\\WINDOWS\\System32\\cmd.exe\n",
    "- %SystemRoot%\\System32\\WindowsPowerShell\\v1.0\\powershell.exe\n",
    "\n",
    "### Setup env\n",
    "\n",
    "```bash\n",
    "set GOPATH=\"D:\\dev\\go\"\n",
    "```"
   ]
  },
  {
   "attachments": {},
   "cell_type": "markdown",
   "metadata": {},
   "source": [
    "## testing\n",
    "\n",
    "### ram\n",
    "\n",
    "win+r\n",
    "```\n",
    "mdsched.exe\n",
    "```\n",
    "\n",
    "### battery health\n",
    "\n",
    "cmd\n",
    "```\n",
    "powercfg/batteryreport\n",
    "```"
   ]
  },
  {
   "cell_type": "markdown",
   "metadata": {},
   "source": [
    "## Common info"
   ]
  },
  {
   "attachments": {},
   "cell_type": "markdown",
   "metadata": {},
   "source": [
    "### get product key\n",
    "\n",
    "- cmd: `wmic path softwarelicensingservice get OA3xOriginalProductKey`\n",
    "- powershell: `powershell \"(Get-WmiObject -query 'select * from SoftwareLicensingService').OA3xOriginalProductKey\"`\n",
    "- regedit: \n",
    "    - Computer\\HKEY_LOCAL_MACHINE\\SOFTWARE\\Microsoft\\Windows NT\\CurrentVersion\\SoftwareProtectionPlatform\n",
    "    - BackupProductKeyDefault"
   ]
  },
  {
   "attachments": {},
   "cell_type": "markdown",
   "metadata": {},
   "source": [
    "### get system info\n",
    "\n",
    "```bash\n",
    "systeminfo | Select-String \"^OS Name\",\"^OS Version\"\n",
    "```\n",
    "```powershell\n",
    "systeminfo | find \"System Type\"\n",
    "```\n",
    "- cmd: `Systeminfo.exe`\n",
    "\n",
    "\n",
    "win+r:\n",
    "- msinfo32  # System information\n",
    "- tpm.msc  # Trusted Platform Module"
   ]
  },
  {
   "attachments": {},
   "cell_type": "markdown",
   "metadata": {},
   "source": [
    "## win 11\n",
    "\n",
    "- BIOS mode UEFI\n",
    "- Secure Boot State On\n",
    "- Device Encryption Support  # Trusted Platform Module"
   ]
  },
  {
   "cell_type": "markdown",
   "metadata": {},
   "source": [
    "### disk check "
   ]
  },
  {
   "cell_type": "markdown",
   "metadata": {},
   "source": [
    "\n",
    "if GPT:\n",
    "- win+r > diskpart > list disk\n",
    "    \n",
    "powershell: `Get-Disk`"
   ]
  },
  {
   "cell_type": "markdown",
   "metadata": {},
   "source": [
    "#### issue: We couldn’t create a new partition or locate an existing one\n",
    "    shift+f10"
   ]
  },
  {
   "cell_type": "markdown",
   "metadata": {},
   "source": [
    "## Certification"
   ]
  },
  {
   "cell_type": "markdown",
   "metadata": {},
   "source": [
    "- Trusted Root Certification Authorities\n",
    "- Intermediate Certification Authorities"
   ]
  },
  {
   "cell_type": "markdown",
   "metadata": {},
   "source": [
    "### tool\n",
    "cmd: certmgr"
   ]
  },
  {
   "cell_type": "markdown",
   "metadata": {},
   "source": [
    "## Files"
   ]
  },
  {
   "cell_type": "markdown",
   "metadata": {},
   "source": [
    "File compare\n",
    "```\n",
    "fc filename1.txt filename2.txt\n",
    "```\n",
    "```\n",
    "cleaner:\n",
    "    C:\\Windows\\LiveKernelReports\n",
    "        file.dmp\n",
    "```"
   ]
  },
  {
   "cell_type": "markdown",
   "metadata": {},
   "source": [
    "### tmp"
   ]
  },
  {
   "cell_type": "markdown",
   "metadata": {},
   "source": [
    "- C:\\Users\\uname\\AppData\\Local\\Temp"
   ]
  },
  {
   "cell_type": "markdown",
   "metadata": {},
   "source": [
    "## Support"
   ]
  },
  {
   "attachments": {},
   "cell_type": "markdown",
   "metadata": {},
   "source": [
    "### Mail\n",
    "\n",
    "- [yndex mail server settings](https://yandex.ru/support/mail/mail-clients/microsoft-outlook.html)"
   ]
  }
 ],
 "metadata": {
  "kernelspec": {
   "display_name": ".envpy",
   "language": "python",
   "name": "python3"
  },
  "language_info": {
   "codemirror_mode": {
    "name": "ipython",
    "version": 3
   },
   "file_extension": ".py",
   "mimetype": "text/x-python",
   "name": "python",
   "nbconvert_exporter": "python",
   "pygments_lexer": "ipython3",
   "version": "3.11.2 (tags/v3.11.2:878ead1, Feb  7 2023, 16:38:35) [MSC v.1934 64 bit (AMD64)]"
  },
  "orig_nbformat": 4,
  "vscode": {
   "interpreter": {
    "hash": "d466f5a145533eacc584c6d911e4e9caf56217c1cef976a2b5467cc7558a574d"
   }
  }
 },
 "nbformat": 4,
 "nbformat_minor": 2
}
