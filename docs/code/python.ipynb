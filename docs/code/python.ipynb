{
 "cells": [
  {
   "cell_type": "markdown",
   "metadata": {},
   "source": [
    "- [openpyxl](https://pypi.org/project/openpyxl/)\n",
    "- [openpyxl docs](https://openpyxl.readthedocs.io/en/stable/)\n",
    "- [mkdocs-material](https://squidfunk.github.io/mkdocs-material/)\n",
    "- [teedoc](https://jamstack.org/generators/teedoc/)"
   ]
  },
  {
   "cell_type": "markdown",
   "metadata": {},
   "source": [
    "## installation"
   ]
  },
  {
   "cell_type": "markdown",
   "metadata": {},
   "source": [
    "### virtual enveronment"
   ]
  },
  {
   "cell_type": "markdown",
   "metadata": {},
   "source": [
    "```bash\n",
    "# linux\n",
    "sudo apt install python3-venv\n",
    "\n",
    "# for all\n",
    "python -m venv prjLnk\\.venv_name\n",
    "\n",
    "# .venvfl\n",
    "# .venvfapi\n",
    "# .wget\n",
    "```"
   ]
  },
  {
   "cell_type": "markdown",
   "metadata": {},
   "source": [
    "- activation\n",
    "```bash\n",
    "# windows, for powershell\n",
    ".\\.venv\\Scripts\\activate\n",
    "\n",
    "# for windows wth bash\n",
    "source d:/devgit/pytest/.venv/Scripts/activate\n",
    "source .venv/Scripts/activate\n",
    "\n",
    "# for linux\n",
    "source .venv/bin/activate\n",
    "```\n",
    "- deactivation\n",
    "`deactivate`"
   ]
  },
  {
   "cell_type": "markdown",
   "metadata": {},
   "source": [
    "#### installation to venv"
   ]
  },
  {
   "cell_type": "markdown",
   "metadata": {},
   "source": [
    "```bash\n",
    "pip install -r requirements.txt\n",
    "pip install module_name\n",
    "```"
   ]
  },
  {
   "cell_type": "markdown",
   "metadata": {},
   "source": [
    "## pip"
   ]
  },
  {
   "cell_type": "markdown",
   "metadata": {},
   "source": [
    "```bash\n",
    "pip list # to check what we have\n",
    "pip install -r requirements.txt\n",
    "pip install -U pylint\n",
    "python -m pip install --upgrade pip\n",
    "```"
   ]
  },
  {
   "cell_type": "markdown",
   "metadata": {},
   "source": [
    "## py server"
   ]
  },
  {
   "cell_type": "markdown",
   "metadata": {},
   "source": [
    "- [py server](https://developer.mozilla.org/en-US/docs/Learn/Common_questions/set_up_a_local_testing_server)"
   ]
  },
  {
   "cell_type": "markdown",
   "metadata": {},
   "source": [
    "```bash\n",
    "# If Python version returned above is 3.X\n",
    "# On Windows, try \"python -m http.server\" or \"py -3 -m http.server\"\n",
    "python3 -m http.server\n",
    "# If Python version returned above is 2.X\n",
    "python -m SimpleHTTPServer\n",
    "```"
   ]
  },
  {
   "cell_type": "markdown",
   "metadata": {},
   "source": [
    "## Flask"
   ]
  },
  {
   "cell_type": "markdown",
   "metadata": {},
   "source": [
    "* [palletsprojects](https://flask.palletsprojects.com/en/1.1.x/)\n",
    "* [flask quickstart](https://flask.palletsprojects.com/en/1.1.x/quickstart/)"
   ]
  },
  {
   "cell_type": "markdown",
   "metadata": {},
   "source": [
    "### installation"
   ]
  },
  {
   "cell_type": "markdown",
   "metadata": {},
   "source": [
    "```bash\n",
    "# for linux\n",
    "\n",
    "mkdir -p ~/src/snap && cd ~/src/snap\n",
    "mkvirtualenv snap -i flask\n",
    "\n",
    "mkdir app\n",
    "touch app/{__init__,app,config,main,views}.py\n",
    "```"
   ]
  },
  {
   "cell_type": "markdown",
   "metadata": {},
   "source": [
    "### flask run"
   ]
  },
  {
   "cell_type": "markdown",
   "metadata": {},
   "source": [
    "- windows:\n",
    "```\n",
    "cd D:\\devgit\\flask\n",
    "\n",
    "set FLASK_APP=frun.py\n",
    "set FLASK_DEBUG=1\n",
    "set FLASK_ENV=development\n",
    "flask run  # start off in app\n",
    "python app.py  # start off in __main__\n",
    "```\n",
    "\n",
    "- powerShell\n",
    "`$env:FLASK_APP = \"webapp\"`\n",
    "\n",
    "- linux\n",
    "```\n",
    "export FLASK_APP=flasky.py\n",
    "export FLASK_DEBUG=1\n",
    "export FLASK_ENV=development\n",
    "flask run\n",
    "```"
   ]
  },
  {
   "cell_type": "markdown",
   "metadata": {},
   "source": [
    "- [flask host](http://127.0.0.1:5000/)"
   ]
  },
  {
   "cell_type": "markdown",
   "metadata": {},
   "source": [
    "## FastAPI"
   ]
  },
  {
   "cell_type": "markdown",
   "metadata": {},
   "source": [
    "<details><summary>links</summary>\n",
    "\n",
    "- [fastapi](https://fastapi.tiangolo.com/)\n",
    "- [uvicorn](https://www.uvicorn.org/)\n",
    "- [local docs](http://127.0.0.1:8000/docs)\n",
    "- [localhost](http://127.0.0.1:8000/)\n",
    "- [local redoc](http://127.0.0.1:8000/redoc)\n",
    "- [tutorial](https://fastapi.tiangolo.com/tutorial/)\n",
    "- [async](https://fastapi.tiangolo.com/async/#in-a-hurry)\n",
    "- [](https://levelup.gitconnected.com/building-a-website-starter-with-fastapi-92d077092864)\n",
    "\n",
    "</details>"
   ]
  },
  {
   "cell_type": "markdown",
   "metadata": {},
   "source": [
    "### installation"
   ]
  },
  {
   "cell_type": "markdown",
   "metadata": {},
   "source": [
    "```bash\n",
    "pip install fastapi\n",
    "pip install uvicorn[standard]\n",
    "```"
   ]
  },
  {
   "cell_type": "markdown",
   "metadata": {},
   "source": [
    "### run fastapi"
   ]
  },
  {
   "cell_type": "markdown",
   "metadata": {},
   "source": [
    "```\n",
    "uvicorn main:app --reload  # main.py app is object\n",
    "uvicorn sql_app.main:app --reload\n",
    "uvicorn app.main:app --reload --port 8080\n",
    "```\n",
    "\n",
    "- main: the file main.py (the Python \"module\").\n",
    "- app: the object created inside of main.py with the line app = FastAPI().\n",
    "- --reload: make the server restart after code changes. Only do this for development."
   ]
  },
  {
   "cell_type": "markdown",
   "metadata": {},
   "source": [
    "- [fast api host](http://127.0.0.1:8000)"
   ]
  },
  {
   "cell_type": "markdown",
   "metadata": {},
   "source": [
    "## sql fo python"
   ]
  },
  {
   "cell_type": "markdown",
   "metadata": {},
   "source": [
    "- sqlalchemy\n",
    "```\n",
    "import sqlalchemy\n",
    "sqlalchemy.__version__\n",
    "```\n",
    "- mongo\n",
    "    - [mongodb-python](https://www.mongodb.com/python)\n",
    "```\n",
    "python -m pip install pymongo\n",
    "# or\n",
    "pip install pymongo .\\mongodb --dbpath=\"D:\\dev\\.dbs\\mongo\"\n",
    "```"
   ]
  }
 ],
 "metadata": {
  "kernelspec": {
   "display_name": "Python 3.10.0 64-bit",
   "language": "python",
   "name": "python3"
  },
  "language_info": {
   "name": "python",
   "version": "3.10.0"
  },
  "orig_nbformat": 4,
  "vscode": {
   "interpreter": {
    "hash": "aeb0d9bb72597a4186043466e613f917bef9b230a0953da9733832b4615fa1ac"
   }
  }
 },
 "nbformat": 4,
 "nbformat_minor": 2
}
