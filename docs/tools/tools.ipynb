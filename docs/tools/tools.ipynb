{
 "cells": [
  {
   "cell_type": "markdown",
   "metadata": {},
   "source": [
    "## VS Code ide"
   ]
  },
  {
   "cell_type": "markdown",
   "metadata": {},
   "source": [
    "### links"
   ]
  },
  {
   "cell_type": "markdown",
   "metadata": {},
   "source": [
    "- [Extension Marketplace](https://code.visualstudio.com/docs/editor/extension-marketplace)"
   ]
  },
  {
   "cell_type": "markdown",
   "metadata": {},
   "source": [
    "```bash\n",
    "ls $HOME\\.vscode\\extensions\\\n",
    "```"
   ]
  },
  {
   "cell_type": "markdown",
   "metadata": {},
   "source": [
    "```bash\n",
    "code --list-extensions\n",
    "```\n",
    "\n",
    "### tmp.myExtensions"
   ]
  },
  {
   "cell_type": "markdown",
   "metadata": {},
   "source": [
    "## virt"
   ]
  },
  {
   "cell_type": "markdown",
   "metadata": {},
   "source": [
    "### Docker"
   ]
  },
  {
   "cell_type": "markdown",
   "metadata": {},
   "source": [
    "### info"
   ]
  },
  {
   "cell_type": "markdown",
   "metadata": {},
   "source": [
    "```bash\n",
    "docker --version\n",
    "docker ps  # get info\n",
    "docker run --help\n",
    "```"
   ]
  },
  {
   "cell_type": "markdown",
   "metadata": {},
   "source": [
    "```bash\n",
    "docker container ls  # all running conteiners\n",
    "docker container ls -a  # all running and stopped\n",
    "docker container run nginx\n",
    "docker container stop container_id\n",
    "docker container rm container_id  # remove container\n",
    "docker container rm -f container_id  # remove forcefully\n",
    "\n",
    "docker image ls\n",
    "docker image pull image_name\n",
    "docker image rm image_name\n",
    "```"
   ]
  },
  {
   "cell_type": "markdown",
   "metadata": {},
   "source": [
    "#### Clone"
   ]
  },
  {
   "cell_type": "markdown",
   "metadata": {},
   "source": [
    "Clone the repository by running Git in a container\n",
    "```bash\n",
    "docker run --name repo alpine/git clone https://github.com/docker/getting-started.git\n",
    "docker cp repo:/git/getting-started/ .\n",
    "```"
   ]
  },
  {
   "cell_type": "markdown",
   "metadata": {},
   "source": [
    "#### download image"
   ]
  },
  {
   "cell_type": "markdown",
   "metadata": {},
   "source": [
    "```bash\n",
    "docker pull user-id/image-name\n",
    "```"
   ]
  },
  {
   "cell_type": "markdown",
   "metadata": {},
   "source": [
    "#### build"
   ]
  },
  {
   "cell_type": "markdown",
   "metadata": {},
   "source": [
    "build the image aka Dockerfile\n",
    "\n",
    "docker101tutorial is image name\n",
    "```bash\n",
    "cd getting-started\n",
    "docker build -t docker101tutorial .\n",
    "```"
   ]
  },
  {
   "cell_type": "markdown",
   "metadata": {},
   "source": [
    "#### run"
   ]
  },
  {
   "cell_type": "markdown",
   "metadata": {},
   "source": [
    "getting-started is image name\n",
    "```bash\n",
    "docker run -dp 3000:3000 getting-started\n",
    "docker run --rm -dp 3000:3000 getting-started  # Automatically remove the container when it exits\n",
    "\n",
    "docker container run -dp 80:80 nginx\n",
    "docker run -dp 80:80 docker/getting-started\n",
    "docker run -dp 80:80 --name docker-tutorial docker101tutorial\n",
    "```"
   ]
  },
  {
   "cell_type": "markdown",
   "metadata": {},
   "source": [
    "#### Share image"
   ]
  },
  {
   "cell_type": "markdown",
   "metadata": {},
   "source": [
    "```bash\n",
    "docker tag docker101tutorial satfaat/docker101tutorial\n",
    "docker push satfaat/docker101tutorial\n",
    "```\n",
    "\n",
    "- to push a new tag to repository\n",
    "```bash\n",
    "docker push satfaat/docker101tutorial:tagname\n",
    "```"
   ]
  },
  {
   "cell_type": "markdown",
   "metadata": {},
   "source": [
    "#### Remove container"
   ]
  },
  {
   "cell_type": "markdown",
   "metadata": {},
   "source": [
    "```bash\n",
    "docker ps\n",
    "docker stop <the-container-id>\n",
    "docker rm <the-container-id>\n",
    "docker rm -f <container-id>\n",
    "```"
   ]
  },
  {
   "cell_type": "markdown",
   "metadata": {},
   "source": [
    "#### Create a volume"
   ]
  },
  {
   "cell_type": "markdown",
   "metadata": {},
   "source": [
    "get info\n",
    "```bash\n",
    "docker volume inspect volume_name\n",
    "```"
   ]
  },
  {
   "cell_type": "markdown",
   "metadata": {},
   "source": [
    "```bash\n",
    "docker volume create todo-db\n",
    "```"
   ]
  },
  {
   "cell_type": "markdown",
   "metadata": {},
   "source": [
    "##### mount volume\n",
    "```bash\n",
    "docker run -dp 3000:3000 -v todo-db:/etc/todos getting-started\n",
    "```"
   ]
  },
  {
   "cell_type": "markdown",
   "metadata": {},
   "source": [
    "## Volta\n",
    "javascript tool manager"
   ]
  },
  {
   "cell_type": "markdown",
   "metadata": {},
   "source": [
    "- %LOCALAPPDATA%\\Volta\\bin\n",
    "- C:\\Users\\usename\\AppData\\Local\\Volta\\tools\\image\\node\\16.14.0\\npm.CMD"
   ]
  },
  {
   "cell_type": "markdown",
   "metadata": {},
   "source": [
    "```bash\n",
    "volta install name\n",
    "volta --help\n",
    "volta list\n",
    "```"
   ]
  },
  {
   "cell_type": "markdown",
   "metadata": {},
   "source": [
    "## pnpm - package manager"
   ]
  },
  {
   "cell_type": "markdown",
   "metadata": {},
   "source": [
    "C:\\Users\\uname\\AppData\\Local\\pnpm"
   ]
  }
 ],
 "metadata": {
  "kernelspec": {
   "display_name": "Python 3.10.0 64-bit",
   "language": "python",
   "name": "python3"
  },
  "language_info": {
   "name": "python",
   "version": "3.10.0"
  },
  "orig_nbformat": 4,
  "vscode": {
   "interpreter": {
    "hash": "aeb0d9bb72597a4186043466e613f917bef9b230a0953da9733832b4615fa1ac"
   }
  }
 },
 "nbformat": 4,
 "nbformat_minor": 2
}
