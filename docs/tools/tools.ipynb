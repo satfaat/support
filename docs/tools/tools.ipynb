{
 "cells": [
  {
   "cell_type": "markdown",
   "metadata": {},
   "source": [
    "## VS Code ide"
   ]
  },
  {
   "cell_type": "markdown",
   "metadata": {},
   "source": [
    "- [VSC ide find-in-files](https://docs.microsoft.com/en-us/visualstudio/ide/find-in-files?view=vs-2019)"
   ]
  },
  {
   "cell_type": "markdown",
   "metadata": {},
   "source": [
    "| command | description |\n",
    "--- | --- \n",
    "| Ctrl+/  | # comment all rows |\n",
    "| View > Command Palette or Ctrl+Shift+P | |"
   ]
  },
  {
   "cell_type": "markdown",
   "metadata": {},
   "source": [
    "### extensions"
   ]
  },
  {
   "cell_type": "markdown",
   "metadata": {},
   "source": [
    "- [Extension Marketplace](https://code.visualstudio.com/docs/editor/extension-marketplace)\n",
    "```bash\n",
    "ls $HOME\\.vscode\\extensions\\\n",
    "code --list-extensions\n",
    "```"
   ]
  },
  {
   "cell_type": "markdown",
   "metadata": {},
   "source": [
    "#### tmp.myExtensions"
   ]
  },
  {
   "cell_type": "markdown",
   "metadata": {},
   "source": [
    "## virtualization"
   ]
  },
  {
   "attachments": {},
   "cell_type": "markdown",
   "metadata": {},
   "source": [
    "### Docker\n",
    "\n",
    "#### links\n",
    "- [docker hub](https://hub.docker.com/repositories)\n",
    "- []()\n",
    "\n",
    "\n",
    "clone > build > run > share\n",
    "pull image > run.it > run container\n",
    "\n",
    "#### info\n",
    "\n",
    "```bash\n",
    "docker --version\n",
    "docker ps  # get info\n",
    "docker run --help\n",
    "```\n",
    "\n",
    "```bash\n",
    "docker container ls  # all running conteiners\n",
    "docker container ls -a  # all running and stopped\n",
    "docker container run nginx\n",
    "docker container stop container_id\n",
    "docker container rm container_id  # remove container\n",
    "docker container rm -f container_id  # remove forcefully\n",
    "\n",
    "docker image ls\n",
    "docker image pull image_name\n",
    "docker image rm image_name\n",
    "```"
   ]
  },
  {
   "cell_type": "markdown",
   "metadata": {},
   "source": [
    "#### installation on with linux"
   ]
  },
  {
   "cell_type": "markdown",
   "metadata": {},
   "source": [
    "```bash\n",
    "sudo apt-get install docker.io\n",
    "```\n",
    "- checked if installed\n",
    "```bash\n",
    "ps ax | grep dockerd\n",
    "```"
   ]
  },
  {
   "cell_type": "markdown",
   "metadata": {},
   "source": [
    "#### Clone"
   ]
  },
  {
   "cell_type": "markdown",
   "metadata": {},
   "source": [
    "Clone the repository by running Git in a container\n",
    "```bash\n",
    "docker run --name repo alpine/git clone https://github.com/docker/getting-started.git\n",
    "docker cp repo:/git/getting-started/ .\n",
    "```"
   ]
  },
  {
   "cell_type": "markdown",
   "metadata": {},
   "source": [
    "#### download image"
   ]
  },
  {
   "cell_type": "markdown",
   "metadata": {},
   "source": [
    "```bash\n",
    "docker pull user-id/image-name\n",
    "```"
   ]
  },
  {
   "cell_type": "markdown",
   "metadata": {},
   "source": [
    "#### dockerfile"
   ]
  },
  {
   "cell_type": "markdown",
   "metadata": {},
   "source": [
    "```dockerfile\n",
    "FROM node\n",
    "\n",
    "ENV MONGO_DB_USERNAME=admin \\\n",
    "    MONGO_DB_PWD=pwd\n",
    "\n",
    "RUN mkdir -p /home/app\n",
    "\n",
    "COPY . /home/app\n",
    "\n",
    "CMD [\"node\",\"/home/app/server.js\"]  # start the app with \"node server.js\"\n",
    "```"
   ]
  },
  {
   "cell_type": "markdown",
   "metadata": {},
   "source": [
    "#### build"
   ]
  },
  {
   "cell_type": "markdown",
   "metadata": {},
   "source": [
    "build the image aka Dockerfile\n",
    "\n",
    "docker101tutorial is image name\n",
    "```bash\n",
    "cd getting-started  # go to dir with dockerfile\n",
    "docker build -t docker101tutorial .\n",
    "```"
   ]
  },
  {
   "cell_type": "markdown",
   "metadata": {},
   "source": [
    "#### run"
   ]
  },
  {
   "cell_type": "markdown",
   "metadata": {},
   "source": [
    "getting-started is image name\n",
    "```bash\n",
    "docker run -dp host_port:conteiner_port image_name\n",
    "# ex: \n",
    "# docker run -dp 3000:3000 getting-started\n",
    "# docker container run -dp 80:80 nginx\n",
    "\n",
    "docker run --rm -dp 3000:3000 getting-started  # Automatically remove the container when it exits\n",
    "\n",
    "docker run -dp host_port:conteiner_port login_name/image_name\n",
    "# ex: docker run -dp 80:80 docker/getting-started\n",
    "\n",
    "docker run -dp host_port:conteiner_port --name conteiner_name image_name\n",
    "docker run -dp 80:80 --name docker-tutorial docker101tutorial\n",
    "```"
   ]
  },
  {
   "cell_type": "markdown",
   "metadata": {},
   "source": [
    "- start or stop conteiner - restarting conteiner\n",
    "```bash\n",
    "docker start conteiner_id\n",
    "docker stop conteiner_id\n",
    "```"
   ]
  },
  {
   "cell_type": "markdown",
   "metadata": {},
   "source": [
    "#### Share image"
   ]
  },
  {
   "cell_type": "markdown",
   "metadata": {},
   "source": [
    "```bash\n",
    "docker tag docker101tutorial satfaat/docker101tutorial\n",
    "docker push satfaat/docker101tutorial\n",
    "```\n",
    "\n",
    "- to push a new tag to repository\n",
    "```bash\n",
    "docker push satfaat/docker101tutorial:tagname\n",
    "```"
   ]
  },
  {
   "cell_type": "markdown",
   "metadata": {},
   "source": [
    "#### Remove container"
   ]
  },
  {
   "cell_type": "markdown",
   "metadata": {},
   "source": [
    "```bash\n",
    "docker ps\n",
    "docker stop <the-container-id>\n",
    "docker rm <the-container-id>\n",
    "docker rm -f <container-id>\n",
    "```"
   ]
  },
  {
   "cell_type": "markdown",
   "metadata": {},
   "source": [
    "#### Create a volume"
   ]
  },
  {
   "cell_type": "markdown",
   "metadata": {},
   "source": [
    "get info\n",
    "```bash\n",
    "docker volume inspect volume_name\n",
    "```"
   ]
  },
  {
   "cell_type": "markdown",
   "metadata": {},
   "source": [
    "```bash\n",
    "docker volume create todo-db\n",
    "```"
   ]
  },
  {
   "cell_type": "markdown",
   "metadata": {},
   "source": [
    "##### mount volume\n",
    "```bash\n",
    "docker run -dp 3000:3000 -v todo-db:/etc/todos getting-started\n",
    "```"
   ]
  },
  {
   "cell_type": "markdown",
   "metadata": {},
   "source": [
    "#### Debbuging"
   ]
  },
  {
   "cell_type": "markdown",
   "metadata": {},
   "source": [
    "```bash\n",
    "docker logs conteiner_id | tail\n",
    "docker exec -it conteiner_id /bin/bash  # open interactive console\n",
    "```"
   ]
  },
  {
   "cell_type": "markdown",
   "metadata": {},
   "source": [
    "#### docker networking"
   ]
  },
  {
   "cell_type": "markdown",
   "metadata": {},
   "source": [
    "```bash\n",
    "docker network ls\n",
    "docker network create net_name\n",
    "```"
   ]
  },
  {
   "cell_type": "markdown",
   "metadata": {},
   "source": [
    "- mount network\n",
    "```bash\n",
    "docker run -dp host_port:conteiner_port --name conteiner_name --net net_name image_name\n",
    "\n",
    "# shorter\n",
    "docker run -dp host_port:conteiner_port \\\n",
    "--name conteiner_name \\\n",
    "--net net_name image_name\n",
    "```"
   ]
  },
  {
   "cell_type": "markdown",
   "metadata": {},
   "source": [
    "#### compose"
   ]
  },
  {
   "cell_type": "markdown",
   "metadata": {},
   "source": [
    "- create yaml ompose file\n",
    "```yml\n",
    "version:'3'  # version of docker compose\n",
    "services:\n",
    "    mongodb:  # conteiner name\n",
    "        image: mongo\n",
    "        ports:\n",
    "        - 27017:27017  # host:conteiner\n",
    "        environment:\n",
    "        - MONGO_USERNAME=admin\n",
    "    mongo-express:\n",
    "\n",
    "```"
   ]
  },
  {
   "cell_type": "markdown",
   "metadata": {},
   "source": [
    "```bash\n",
    "docker-compose -d -f mongo.yaml up  # -f for file\n",
    "docker-compose -f mongo.yaml down\n",
    "```"
   ]
  },
  {
   "cell_type": "markdown",
   "metadata": {},
   "source": [
    "### WSL"
   ]
  },
  {
   "cell_type": "markdown",
   "metadata": {},
   "source": [
    "- info\n",
    "```bash\n",
    "wsl -l -v\n",
    "```"
   ]
  },
  {
   "cell_type": "markdown",
   "metadata": {},
   "source": [
    "## Volta\n",
    "javascript tool manager"
   ]
  },
  {
   "cell_type": "markdown",
   "metadata": {},
   "source": [
    "- [volta](https://volta.sh/)\n",
    "- %LOCALAPPDATA%\\Volta\\bin\n",
    "- C:\\Users\\usename\\AppData\\Local\\Volta\\tools\\image\\node\\16.14.0\\npm.CMD"
   ]
  },
  {
   "attachments": {},
   "cell_type": "markdown",
   "metadata": {},
   "source": [
    "```bash\n",
    "volta install name\n",
    "volta --help\n",
    "volta help install\n",
    "volta list\n",
    "```"
   ]
  },
  {
   "attachments": {},
   "cell_type": "markdown",
   "metadata": {},
   "source": [
    "## pnpm - package manager\n",
    "\n",
    "- packages\n",
    "    - [pnpm-npm](https://www.npmjs.com/package/pnpm)\n",
    "\n",
    "<br/>\n",
    "\n",
    "- [installation](https://pnpm.io/installation)\n",
    "- PNPM_HOME=C:\\Users\\uname\\AppData\\Local\\pnpm\n",
    "\n",
    "```bash\n",
    "# update\n",
    "pnpm add -g pnpm\n",
    "```"
   ]
  },
  {
   "cell_type": "markdown",
   "metadata": {},
   "source": [
    "### Uninstalling pnpm"
   ]
  },
  {
   "cell_type": "markdown",
   "metadata": {},
   "source": [
    "- removing the globally installed packages\n",
    "```bash\n",
    "pnpm ls -g  # to list all the global packages\n",
    "pnpm rm -g <pkg>\n",
    "```\n",
    "- removing the pnpm CLI standalone\n",
    "```bash\n",
    "rm -rf $PNPM_HOME\n",
    "```\n",
    "- removing the pnpm CLI with npm\n",
    "```bash\n",
    "npm rm -g pnpm\n",
    "```\n",
    "- removing the global content-addressable store\n",
    "```bash\n",
    "rm -rf $(pnpm store path)\n",
    "```"
   ]
  },
  {
   "cell_type": "markdown",
   "metadata": {},
   "source": [
    "## Databases"
   ]
  },
  {
   "cell_type": "markdown",
   "metadata": {},
   "source": [
    "### SQLite"
   ]
  },
  {
   "cell_type": "markdown",
   "metadata": {},
   "source": [
    "- [sqlite](https://www.sqlite.org/index.html)\n",
    "- [sqlitebrowser](https://sqlitebrowser.org/)\n",
    "- [sqlitetutorial](https://www.sqlitetutorial.net/)\n",
    "- [quickstart](https://www.sqlite.org/quickstart.html)\n",
    "- [datatype3](https://www.sqlite.org/datatype3.html)"
   ]
  },
  {
   "cell_type": "markdown",
   "metadata": {},
   "source": [
    "- start\n",
    "```bash\n",
    "sqlite3  # start\n",
    "\n",
    "sqlite3 links.db\n",
    ".databases\n",
    ".tables\n",
    "```\n",
    "- close\n",
    "`.quit`"
   ]
  },
  {
   "cell_type": "markdown",
   "metadata": {},
   "source": [
    "- backup\n",
    "```bash\n",
    ".backup his_2020.db\n",
    ".restore his_2020.db\n",
    "```"
   ]
  }
 ],
 "metadata": {
  "kernelspec": {
   "display_name": "Python 3.10.0 64-bit",
   "language": "python",
   "name": "python3"
  },
  "language_info": {
   "name": "python",
   "version": "3.10.0 (tags/v3.10.0:b494f59, Oct  4 2021, 19:00:18) [MSC v.1929 64 bit (AMD64)]"
  },
  "orig_nbformat": 4,
  "vscode": {
   "interpreter": {
    "hash": "aeb0d9bb72597a4186043466e613f917bef9b230a0953da9733832b4615fa1ac"
   }
  }
 },
 "nbformat": 4,
 "nbformat_minor": 2
}
