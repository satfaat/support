{
 "cells": [
  {
   "cell_type": "markdown",
   "metadata": {},
   "source": [
    "- linux\n",
    "    - [archlinux wiki](https://wiki.archlinux.org/index.php/improving_performance)\n",
    "    - [ubuntu wiki ru](https://help.ubuntu.ru/wiki/ubuntu_optimization)\n",
    "    - [ixbt optimization](https://www.ixbt.com/live/games/optimizaciya-linux-dlya-igr.html)"
   ]
  },
  {
   "cell_type": "markdown",
   "metadata": {},
   "source": [
    "## info"
   ]
  },
  {
   "cell_type": "markdown",
   "metadata": {},
   "source": [
    "- common commands\n",
    "```bash\n",
    "whoami\n",
    "```\n",
    "\n",
    "- os **linux** info\n",
    "```bash\n",
    "less /etc/os-release\n",
    "less /etc/network/interfaces\n",
    "cat /etc/resolv.conf\n",
    "cat /etc/apk/repositories\n",
    "env  # environment variable names\n",
    "which prog_name\n",
    "``` \n",
    "\n",
    "- **win** info\n",
    "```bash\n",
    "set  # cmd, environment variable names\n",
    "dir env:  # powershell, environment variable names\n",
    "```"
   ]
  },
  {
   "cell_type": "markdown",
   "metadata": {},
   "source": [
    "## apk package manager"
   ]
  },
  {
   "cell_type": "markdown",
   "metadata": {},
   "source": [
    "```bash\n",
    "apk info\n",
    "apk update\n",
    "apk upgrade\n",
    "apk add package_name\n",
    "apk del package_name\n",
    "```"
   ]
  },
  {
   "cell_type": "markdown",
   "metadata": {},
   "source": [
    "## File manipulating "
   ]
  },
  {
   "cell_type": "markdown",
   "metadata": {},
   "source": [
    "- **linux**\n",
    "```bash\n",
    "ls -l\n",
    "```\n",
    "\n",
    "- **win**\n",
    "```bash\n",
    "dir\n",
    "```"
   ]
  }
 ],
 "metadata": {
  "kernelspec": {
   "display_name": "Python 3.10.0 64-bit",
   "language": "python",
   "name": "python3"
  },
  "language_info": {
   "name": "python",
   "version": "3.10.0"
  },
  "orig_nbformat": 4,
  "vscode": {
   "interpreter": {
    "hash": "aeb0d9bb72597a4186043466e613f917bef9b230a0953da9733832b4615fa1ac"
   }
  }
 },
 "nbformat": 4,
 "nbformat_minor": 2
}
