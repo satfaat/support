{
 "cells": [
  {
   "attachments": {},
   "cell_type": "markdown",
   "metadata": {},
   "source": [
    "- https://github.com/topics/test-automation"
   ]
  },
  {
   "attachments": {},
   "cell_type": "markdown",
   "metadata": {},
   "source": [
    "## Selenium.java\n",
    "\n",
    "### links\n",
    "- https://www.selenium.dev/"
   ]
  },
  {
   "attachments": {},
   "cell_type": "markdown",
   "metadata": {},
   "source": [
    "## Cypress.js\n",
    "\n",
    "- https://docs.cypress.io/guides/getting-started/opening-the-app#What-you-ll-learn\n",
    "- https://github.com/cypress-io/cypress-realworld-app\n",
    "- [cypress](https://www.cypress.io/)\n",
    "- https://learn.cypress.io/advanced-cypress-concepts/integration-and-api-tests\n",
    "- https://github.com/cypress-io/cypress-realworld-app/tree/develop/cypress/tests/api\n",
    "- https://github.com/cypress-io/cypress-example-api-testing/blob/master/cypress/integration/example_spec.js\n",
    "- docu \n",
    "    - [first e2e test](https://docs.cypress.io/guides/end-to-end-testing/writing-your-first-end-to-end-test?utm_source=Binary%3A%20Launchpad&utm_medium=Docs%20Menu&utm_content=First%20Test#What-you-ll-learn)\n",
    "\n",
    "\n",
    "### installation\n",
    "`pnpm install cypress --save-dev`\n",
    "- check modules in project folder\n",
    "`pnpm list`\n",
    "- update\n",
    "`pnpm update cypress`\n",
    "- removes unnecessary packages\n",
    "`pnpm prune`\n",
    "- removes packages from node_modules and from the project's package.json\n",
    "`pnpm rm`\n",
    "\n",
    "\n",
    "### run cypress\n",
    "```bash\n",
    "node_modules\\.bin\\cypress open\n",
    "# shortcut\n",
    "$(npm bin)/cypress open\n",
    "# or \n",
    "pnpx cypress open\n",
    "# or \n",
    "npx cypress open\n",
    "# or\n",
    "npm run cypress:open\n",
    "```\n",
    "- host [localhost:60479](http://localhost:60479/__/#/specs)\n"
   ]
  },
  {
   "attachments": {},
   "cell_type": "markdown",
   "metadata": {},
   "source": [
    "## Playwright.js\n",
    "\n",
    "### links\n",
    "\n",
    "- https://playwright.dev/docs/intro\n",
    "- https://reflect.run/articles/using-playwright-for-api-testing/\n",
    "- https://playwright.dev/docs/api/class-testoptions\n",
    "- https://playwright.dev/docs/api/class-apirequestcontext\n",
    "\n",
    "\n",
    "### start\n",
    "```bash\n",
    "pnpm dlx create-playwright\n",
    "\n",
    "# install browsers\n",
    "pnpm dlx playwright install\n",
    "\n",
    "# runs the end-to-end tests\n",
    "pnpm dlx playwright test\n",
    "\n",
    "# runs the tests only on desktop chrome\n",
    "pnpm dlx playwright test --project=chromium\n",
    "\n",
    "# Runs the tests in a specific file.\n",
    "pnpm dlx playwright test example\n",
    "\n",
    "# Runs the tests in debug mode.\n",
    "pnpm dlx playwright test --debug\n",
    "\n",
    "# Auto generate tests with Codegen.\n",
    "pnpm dlx playwright codegen\n",
    "\n",
    "# To open last HTML report run:\n",
    "pnpx playwright show-report\n",
    "```"
   ]
  }
 ],
 "metadata": {
  "kernelspec": {
   "display_name": "Python 3",
   "language": "python",
   "name": "python3"
  },
  "language_info": {
   "name": "python",
   "version": "3.10.0 (tags/v3.10.0:b494f59, Oct  4 2021, 19:00:18) [MSC v.1929 64 bit (AMD64)]"
  },
  "orig_nbformat": 4,
  "vscode": {
   "interpreter": {
    "hash": "aeb0d9bb72597a4186043466e613f917bef9b230a0953da9733832b4615fa1ac"
   }
  }
 },
 "nbformat": 4,
 "nbformat_minor": 2
}
