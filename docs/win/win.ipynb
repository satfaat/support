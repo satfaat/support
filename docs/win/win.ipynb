{
 "cells": [
  {
   "cell_type": "markdown",
   "metadata": {},
   "source": [
    "## testing"
   ]
  },
  {
   "cell_type": "markdown",
   "metadata": {},
   "source": [
    "### ram"
   ]
  },
  {
   "cell_type": "markdown",
   "metadata": {},
   "source": [
    "win+r\n",
    "```\n",
    "mdsched.exe\n",
    "```"
   ]
  },
  {
   "cell_type": "markdown",
   "metadata": {},
   "source": [
    "### battery health"
   ]
  },
  {
   "cell_type": "markdown",
   "metadata": {},
   "source": [
    "cmd\n",
    "```\n",
    "powercfg/batteryreport\n",
    "```"
   ]
  },
  {
   "cell_type": "markdown",
   "metadata": {},
   "source": [
    "## Common info"
   ]
  },
  {
   "cell_type": "markdown",
   "metadata": {},
   "source": [
    "### get product key"
   ]
  },
  {
   "cell_type": "markdown",
   "metadata": {},
   "source": [
    "- cmd: `wmic path softwarelicensingservice get OA3xOriginalProductKey`\n",
    "- powershell: `powershell \"(Get-WmiObject -query 'select * from SoftwareLicensingService').OA3xOriginalProductKey\"`\n",
    "- regedit: \n",
    "    - Computer\\HKEY_LOCAL_MACHINE\\SOFTWARE\\Microsoft\\Windows NT\\CurrentVersion\\SoftwareProtectionPlatform\n",
    "    - BackupProductKeyDefault"
   ]
  },
  {
   "cell_type": "markdown",
   "metadata": {},
   "source": [
    "### get system info"
   ]
  },
  {
   "cell_type": "markdown",
   "metadata": {},
   "source": [
    "```bash\n",
    "systeminfo | Select-String \"^OS Name\",\"^OS Version\"\n",
    "```\n",
    "```powershell\n",
    "systeminfo | find \"System Type\"\n",
    "```\n",
    "- cmd: `Systeminfo.exe`"
   ]
  },
  {
   "cell_type": "markdown",
   "metadata": {},
   "source": [
    "win+r:\n",
    "- msinfo32  # System information\n",
    "- tpm.msc  # Trusted Platform Module"
   ]
  },
  {
   "cell_type": "markdown",
   "metadata": {},
   "source": [
    "## win 11"
   ]
  },
  {
   "cell_type": "markdown",
   "metadata": {},
   "source": [
    "- BIOS mode UEFI\n",
    "- Secure Boot State On\n",
    "- Device Encryption Support  # Trusted Platform Module"
   ]
  },
  {
   "cell_type": "markdown",
   "metadata": {},
   "source": [
    "### disk check "
   ]
  },
  {
   "cell_type": "markdown",
   "metadata": {},
   "source": [
    "\n",
    "if GPT:\n",
    "- win+r > diskpart > list disk\n",
    "    \n",
    "powershell: `Get-Disk`"
   ]
  },
  {
   "cell_type": "markdown",
   "metadata": {},
   "source": [
    "#### issue: We couldn’t create a new partition or locate an existing one\n",
    "    shift+f10"
   ]
  },
  {
   "cell_type": "markdown",
   "metadata": {},
   "source": [
    "## Certification"
   ]
  },
  {
   "cell_type": "markdown",
   "metadata": {},
   "source": [
    "- Trusted Root Certification Authorities\n",
    "- Intermediate Certification Authorities"
   ]
  },
  {
   "cell_type": "markdown",
   "metadata": {},
   "source": [
    "### tool\n",
    "cmd: certmgr"
   ]
  },
  {
   "cell_type": "markdown",
   "metadata": {},
   "source": [
    "## Files"
   ]
  },
  {
   "cell_type": "markdown",
   "metadata": {},
   "source": [
    "File compare\n",
    "```\n",
    "fc filename1.txt filename2.txt\n",
    "```\n",
    "```\n",
    "cleaner:\n",
    "    C:\\Windows\\LiveKernelReports\n",
    "        file.dmp\n",
    "```"
   ]
  },
  {
   "cell_type": "markdown",
   "metadata": {},
   "source": [
    "### tmp"
   ]
  },
  {
   "cell_type": "markdown",
   "metadata": {},
   "source": [
    "- C:\\Users\\uname\\AppData\\Local\\Temp"
   ]
  },
  {
   "cell_type": "markdown",
   "metadata": {},
   "source": [
    "## Support"
   ]
  },
  {
   "cell_type": "markdown",
   "metadata": {},
   "source": [
    "### Mail"
   ]
  },
  {
   "cell_type": "markdown",
   "metadata": {},
   "source": [
    "- [yndex mail server settings](https://yandex.ru/support/mail/mail-clients/microsoft-outlook.html)"
   ]
  }
 ],
 "metadata": {
  "kernelspec": {
   "display_name": "Python 3.10.0 64-bit",
   "language": "python",
   "name": "python3"
  },
  "language_info": {
   "name": "python",
   "version": "3.10.0"
  },
  "orig_nbformat": 4,
  "vscode": {
   "interpreter": {
    "hash": "aeb0d9bb72597a4186043466e613f917bef9b230a0953da9733832b4615fa1ac"
   }
  }
 },
 "nbformat": 4,
 "nbformat_minor": 2
}
