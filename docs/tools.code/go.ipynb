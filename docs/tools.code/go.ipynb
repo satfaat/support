{
 "cells": [
  {
   "attachments": {},
   "cell_type": "markdown",
   "metadata": {},
   "source": [
    "## GO\n",
    "### Links\n",
    "- https://go.dev/play/\n",
    "- https://go.dev/blog/gofmt\n",
    "\n",
    "### Quick start\n",
    "```bash\n",
    "# setup env\n",
    "    # win\n",
    "set GOPATH=\"D:\\dev\\go\"\n",
    "    # linux\n",
    "export GOPATH=\"/dev/go\"\n",
    "\n",
    "# check env\n",
    "go env\n",
    "\n",
    "cd project_folder_name\n",
    "go fmt file.go\n",
    "# or\n",
    "gofmt -w yourcode.go\n",
    "    go build file.go \n",
    "    file.exe\n",
    "    # or \n",
    "    go run file.go\n",
    "```\n",
    "\n",
    "### package names to resolve conflicts\n",
    "- go/src/github.com/headfirstgo/keybord/file.go\n",
    "- go > domen name > user name > package name > file.go\n",
    "\n",
    "```bash\n",
    "go get github.com/headfirstgo/greeting\n",
    "```\n",
    "\n",
    "### Documentation\n",
    "```bash\n",
    "go doc strconv\n",
    "go doc strconv ParseFloat\n",
    "\n",
    "# installation godoc\n",
    "go get -v golang.org/x/tools/cmd/godoc\n",
    "godoc -http=:6060\n",
    "    # http://localhost:6060/pkg\n",
    "```"
   ]
  }
 ],
 "metadata": {
  "language_info": {
   "name": "python"
  },
  "orig_nbformat": 4
 },
 "nbformat": 4,
 "nbformat_minor": 2
}
