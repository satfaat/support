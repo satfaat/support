{
 "cells": [
  {
   "cell_type": "markdown",
   "metadata": {},
   "source": [
    "## testing"
   ]
  },
  {
   "cell_type": "markdown",
   "metadata": {},
   "source": [
    "### ram"
   ]
  },
  {
   "cell_type": "markdown",
   "metadata": {},
   "source": [
    "win+r\n",
    "```\n",
    "mdsched.exe\n",
    "```"
   ]
  },
  {
   "cell_type": "markdown",
   "metadata": {},
   "source": [
    "### battery health"
   ]
  },
  {
   "cell_type": "markdown",
   "metadata": {},
   "source": [
    "cmd\n",
    "```\n",
    "powercfg/batteryreport\n",
    "```"
   ]
  },
  {
   "cell_type": "markdown",
   "metadata": {},
   "source": [
    "## Common info"
   ]
  },
  {
   "cell_type": "markdown",
   "metadata": {},
   "source": [
    "### get product key"
   ]
  },
  {
   "attachments": {},
   "cell_type": "markdown",
   "metadata": {},
   "source": [
    "- cmd: `wmic path softwarelicensingservice get OA3xOriginalProductKey`\n",
    "- powershell: `powershell \"(Get-WmiObject -query 'select * from SoftwareLicensingService').OA3xOriginalProductKey\"`\n",
    "- regedit: \n",
    "    - Computer\\HKEY_LOCAL_MACHINE\\SOFTWARE\\Microsoft\\Windows NT\\CurrentVersion\\SoftwareProtectionPlatform\n",
    "    - BackupProductKeyDefault"
   ]
  },
  {
   "cell_type": "markdown",
   "metadata": {},
   "source": [
    "### get system info"
   ]
  },
  {
   "cell_type": "markdown",
   "metadata": {},
   "source": [
    "```bash\n",
    "systeminfo | Select-String \"^OS Name\",\"^OS Version\"\n",
    "```\n",
    "```powershell\n",
    "systeminfo | find \"System Type\"\n",
    "```\n",
    "- cmd: `Systeminfo.exe`"
   ]
  },
  {
   "cell_type": "markdown",
   "metadata": {},
   "source": [
    "win+r:\n",
    "- msinfo32  # System information\n",
    "- tpm.msc  # Trusted Platform Module"
   ]
  },
  {
   "cell_type": "markdown",
   "metadata": {},
   "source": [
    "## win 11"
   ]
  },
  {
   "cell_type": "markdown",
   "metadata": {},
   "source": [
    "- BIOS mode UEFI\n",
    "- Secure Boot State On\n",
    "- Device Encryption Support  # Trusted Platform Module"
   ]
  },
  {
   "cell_type": "markdown",
   "metadata": {},
   "source": [
    "### disk check "
   ]
  },
  {
   "cell_type": "markdown",
   "metadata": {},
   "source": [
    "\n",
    "if GPT:\n",
    "- win+r > diskpart > list disk\n",
    "    \n",
    "powershell: `Get-Disk`"
   ]
  },
  {
   "cell_type": "markdown",
   "metadata": {},
   "source": [
    "#### issue: We couldn’t create a new partition or locate an existing one\n",
    "    shift+f10"
   ]
  },
  {
   "cell_type": "markdown",
   "metadata": {},
   "source": [
    "## Certification"
   ]
  },
  {
   "cell_type": "markdown",
   "metadata": {},
   "source": [
    "- Trusted Root Certification Authorities\n",
    "- Intermediate Certification Authorities"
   ]
  },
  {
   "cell_type": "markdown",
   "metadata": {},
   "source": [
    "### tool\n",
    "cmd: certmgr"
   ]
  },
  {
   "cell_type": "markdown",
   "metadata": {},
   "source": [
    "## Files"
   ]
  },
  {
   "cell_type": "markdown",
   "metadata": {},
   "source": [
    "File compare\n",
    "```\n",
    "fc filename1.txt filename2.txt\n",
    "```\n",
    "```\n",
    "cleaner:\n",
    "    C:\\Windows\\LiveKernelReports\n",
    "        file.dmp\n",
    "```"
   ]
  },
  {
   "cell_type": "markdown",
   "metadata": {},
   "source": [
    "### tmp"
   ]
  },
  {
   "cell_type": "markdown",
   "metadata": {},
   "source": [
    "- C:\\Users\\uname\\AppData\\Local\\Temp"
   ]
  },
  {
   "cell_type": "markdown",
   "metadata": {},
   "source": [
    "## Support"
   ]
  },
  {
   "cell_type": "markdown",
   "metadata": {},
   "source": [
    "### Mail"
   ]
  },
  {
   "cell_type": "markdown",
   "metadata": {},
   "source": [
    "- [yndex mail server settings](https://yandex.ru/support/mail/mail-clients/microsoft-outlook.html)"
   ]
  }
 ],
 "metadata": {
  "kernelspec": {
   "display_name": ".env_jupyter",
   "language": "python",
   "name": "python3"
  },
  "language_info": {
   "codemirror_mode": {
    "name": "ipython",
    "version": 3
   },
   "file_extension": ".py",
   "mimetype": "text/x-python",
   "name": "python",
   "nbconvert_exporter": "python",
   "pygments_lexer": "ipython3",
   "version": "3.10.0 (tags/v3.10.0:b494f59, Oct  4 2021, 19:00:18) [MSC v.1929 64 bit (AMD64)]"
  },
  "orig_nbformat": 4,
  "vscode": {
   "interpreter": {
    "hash": "acd7119d548134a99e6f9d1f29df8db3a357202429f0f56f73b34e23b90bc877"
   }
  }
 },
 "nbformat": 4,
 "nbformat_minor": 2
}
