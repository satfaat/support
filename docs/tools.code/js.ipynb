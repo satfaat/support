{
 "cells": [
  {
   "attachments": {},
   "cell_type": "markdown",
   "metadata": {},
   "source": [
    "## links\n",
    "\n",
    "- [jsfiddle](https://jsfiddle.net/)\n",
    "- [codepen](https://codepen.io/#)\n",
    "- [jstherightway](https://jstherightway.org/)\n",
    "- [JavaScript](https://developer.mozilla.org/en-US/docs/Web/JavaScript)\n",
    "- [visualstudio](https://code.visualstudio.com/Docs/languages/javascript)\n",
    "\n",
    "\n",
    "- backend\n",
    "    - [deno](https://deno.land/)\n",
    "    - [manual](https://deno.land/manual)"
   ]
  },
  {
   "cell_type": "markdown",
   "metadata": {},
   "source": [
    "## javaScript vanila"
   ]
  },
  {
   "cell_type": "markdown",
   "metadata": {},
   "source": [
    "<details>\n",
    "<summary><h3>IDE:</h3></summary>\n",
    "\n",
    "- shift + F4 # Scratchpad\n",
    "- Ctrl+Shift+j\n",
    "- Ctrl+Shift+I\n",
    "\n",
    "</details>"
   ]
  },
  {
   "attachments": {},
   "cell_type": "markdown",
   "metadata": {},
   "source": [
    "## Deno\n",
    "\n",
    "### installation\n",
    "\n",
    "by default C:\\Users\\user_name\\.deno\n",
    "\n",
    "```powershell\n",
    "iwr https://deno.land/x/install/install.ps1 -useb | iex\n",
    "\n",
    "deno run https://deno.land/std/examples/welcome.ts\n",
    "\n",
    "# cli\n",
    "deno eval \"console.log('Deno run from eval')\"\n",
    "\n",
    "# debug\n",
    "deno run --inspect-brk get-current-time.js\n",
    "\n",
    "# info\n",
    "deno info\n",
    "```"
   ]
  },
  {
   "attachments": {},
   "cell_type": "markdown",
   "metadata": {},
   "source": [
    "## Solid, front-end "
   ]
  },
  {
   "attachments": {},
   "cell_type": "markdown",
   "metadata": {},
   "source": [
    "## Remix\n",
    "\n",
    "- [remix](https://remix.run/)\n",
    "- [remix-blog](https://remix.run/docs/en/v1/tutorials/blog)\n",
    "\n",
    "### start-remix\n",
    "```bash\n",
    "npx create-remix@latest\n",
    "cd project_destination\n",
    "npm run dev\n",
    "```"
   ]
  }
 ],
 "metadata": {
  "kernelspec": {
   "display_name": "Python 3.10.0 64-bit",
   "language": "python",
   "name": "python3"
  },
  "language_info": {
   "name": "python",
   "version": "3.10.0"
  },
  "orig_nbformat": 4,
  "vscode": {
   "interpreter": {
    "hash": "aeb0d9bb72597a4186043466e613f917bef9b230a0953da9733832b4615fa1ac"
   }
  }
 },
 "nbformat": 4,
 "nbformat_minor": 2
}
