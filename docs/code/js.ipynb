{
 "cells": [
  {
   "cell_type": "markdown",
   "metadata": {},
   "source": [
    "## links"
   ]
  },
  {
   "cell_type": "markdown",
   "metadata": {},
   "source": [
    "- [jsfiddle](https://jsfiddle.net/)\n",
    "- [codepen](https://codepen.io/#)\n",
    "- [jstherightway](https://jstherightway.org/)\n",
    "- [JavaScript](https://developer.mozilla.org/en-US/docs/Web/JavaScript)\n",
    "- [visualstudio](https://code.visualstudio.com/Docs/languages/javascript)"
   ]
  },
  {
   "cell_type": "markdown",
   "metadata": {},
   "source": [
    "- backend\n",
    "    - [deno](https://deno.land/)\n",
    "    - [manual](https://deno.land/manual)"
   ]
  },
  {
   "cell_type": "markdown",
   "metadata": {},
   "source": [
    "## javaScript vanila"
   ]
  },
  {
   "cell_type": "markdown",
   "metadata": {},
   "source": [
    "<details>\n",
    "<summary><h3>IDE:</h3></summary>\n",
    "\n",
    "- shift + F4 # Scratchpad\n",
    "- Ctrl+Shift+j\n",
    "- Ctrl+Shift+I\n",
    "\n",
    "</details>"
   ]
  },
  {
   "cell_type": "markdown",
   "metadata": {},
   "source": [
    "## Deno"
   ]
  },
  {
   "cell_type": "markdown",
   "metadata": {},
   "source": [
    "### installation"
   ]
  },
  {
   "cell_type": "markdown",
   "metadata": {},
   "source": [
    "by default C:\\Users\\user_name\\.deno\n",
    "\n",
    "```powershell\n",
    "iwr https://deno.land/x/install/install.ps1 -useb | iex\n",
    "\n",
    "deno run https://deno.land/std/examples/welcome.ts\n",
    "```"
   ]
  },
  {
   "cell_type": "markdown",
   "metadata": {},
   "source": [
    "## Remix"
   ]
  },
  {
   "cell_type": "markdown",
   "metadata": {},
   "source": [
    "- [remix](https://remix.run/)\n",
    "- [remix-blog](https://remix.run/docs/en/v1/tutorials/blog)"
   ]
  },
  {
   "cell_type": "markdown",
   "metadata": {},
   "source": [
    "### start-remix\n",
    "```bash\n",
    "npx create-remix@latest\n",
    "cd project_destination\n",
    "npm run dev\n",
    "```"
   ]
  }
 ],
 "metadata": {
  "kernelspec": {
   "display_name": "Python 3.10.0 64-bit",
   "language": "python",
   "name": "python3"
  },
  "language_info": {
   "name": "python",
   "version": "3.10.0"
  },
  "orig_nbformat": 4,
  "vscode": {
   "interpreter": {
    "hash": "aeb0d9bb72597a4186043466e613f917bef9b230a0953da9733832b4615fa1ac"
   }
  }
 },
 "nbformat": 4,
 "nbformat_minor": 2
}
